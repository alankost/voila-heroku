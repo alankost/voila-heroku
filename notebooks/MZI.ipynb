{
 "cells": [
  {
   "cell_type": "code",
   "execution_count": null,
   "metadata": {},
   "outputs": [],
   "source": [
    "from IPython.core.display import HTML\n",
    "HTML(\"\"\"\n",
    "<style> \n",
    "div.cell {\n",
    "width:750px\n",
    "}\n",
    "</style>\n",
    "\"\"\")"
   ]
  },
  {
   "cell_type": "markdown",
   "metadata": {},
   "source": [
    "# Mach-Zehnder Interferometer as a Filter"
   ]
  },
  {
   "cell_type": "markdown",
   "metadata": {},
   "source": [
    "## Mach-Zehder Interermoter - Principle of Operation"
   ]
  },
  {
   "cell_type": "code",
   "execution_count": null,
   "metadata": {
    "scrolled": true
   },
   "outputs": [],
   "source": [
    "from IPython.core.display import Image\n",
    "Image(url='https://i.imgur.com/U6idytg.png',embed=True,width=600)"
   ]
  },
  {
   "cell_type": "markdown",
   "metadata": {},
   "source": [
    "#### Figure 1. A   Mach-Zehnder interferometer implemented with optical waveguides."
   ]
  },
  {
   "cell_type": "markdown",
   "metadata": {},
   "source": [
    "<p style=\"font-size:18px\">\n",
    "A photonic integrated Mach-Zehnder interferometer (Figure 1) consists on an input waveguide, a component that splits the input, two  waveguide \"arms\", and a component that combines the waves from the two arms to produce a single output. The power for the optical output signal depends on the relative phase at the output waveguide of the contributions from the upper and lower arms. If the arms are identical, we call the device a \"balanced\" interferometer, and an interferometer with non-identical arms is called \"un-balanced\"."
   ]
  },
  {
   "cell_type": "code",
   "execution_count": null,
   "metadata": {},
   "outputs": [],
   "source": [
    "from IPython.core.display import Image\n",
    "Image(url='https://i.imgur.com/ONF9Z2B.png',embed=True,width=600)"
   ]
  },
  {
   "cell_type": "markdown",
   "metadata": {},
   "source": [
    "#### Figure 2. A  y-combiner with (a) constructive interference and (b) destructive interference."
   ]
  },
  {
   "cell_type": "markdown",
   "metadata": {},
   "source": [
    "<p style=\"font-size:18px\">\n",
    "The splitter and combiner in Figure 1 can be implemented with y-junctions or with directional couplers. Here we examine the optical inteference at the output waveguide when they are implemented with y-junctions. For this configuration, the optical phase is identical for light entering the upper and lower interferometer arms. The relative phase of the light at the combiner depends on the difference in the optical path length of the two arms  Contributions from the two arms with the same phase interfere constructively and produce a large output (Figure 2a). When contributions are out of phase (Figure 2b), optical power radiates away from of output waveguide, resulting in a small output."
   ]
  },
  {
   "cell_type": "markdown",
   "metadata": {},
   "source": [
    "## An Unbalanced Interermeter as an Optical Filter"
   ]
  },
  {
   "cell_type": "code",
   "execution_count": null,
   "metadata": {},
   "outputs": [],
   "source": [
    "from IPython.core.display import Image\n",
    "Image(url='https://i.imgur.com/skY90ec.png',embed=True,width=600)"
   ]
  },
  {
   "cell_type": "markdown",
   "metadata": {},
   "source": [
    "#### Figure 3.  An unbalanced interferometer, which operates as a filter."
   ]
  },
  {
   "cell_type": "markdown",
   "metadata": {},
   "source": [
    "<p style=\"font-size:18px\">\n",
    "Figure 3 shows an inteferometer that is \"unbalanced\" because the upper and low arms have different lengths. This type of inteferometer can be used as an optical filter. The graph below shows that the transmission has a set of maxima separated in wavelength by an amount that is called the free spectral range. The maxima have values less than one because we have included transmission loss of 15% (0.7 dB) due primarily to losses in the y-junctions, with a smaller contribution from propagation loss in the arms. The passbands for the filter are often taken to be the collection of wavelengths between the half-maximum points of the peaks. Use the widgets for the chart below to explore how the free spectral range and passbands depend on the length of the upper and lower inteferometer arms, and to answer the corresponding homework problems."
   ]
  },
  {
   "cell_type": "code",
   "execution_count": null,
   "metadata": {
    "hide_input": true
   },
   "outputs": [],
   "source": [
    "import numpy as np\n",
    "from ipywidgets import IntSlider, interact, ToggleButtons, HBox, VBox, Output\n",
    "from bokeh.plotting import figure, show, output_notebook\n",
    "from bokeh.models import HoverTool, ColumnDataSource, Slider, Label\n",
    "from bokeh.layouts import widgetbox\n",
    "from bokeh.models.widgets import RadioButtonGroup, Select\n",
    "from bokeh.layouts import column, row\n",
    "from bokeh.models import NumeralTickFormatter, BasicTickFormatter, Range1d, Span, Arrow, OpenHead, NormalHead, VeeHead\n",
    "from bokeh.io import push_notebook\n",
    "output_notebook()\n",
    "\n",
    "p = figure(height=400, width=450, background_fill_color=\"lightgray\")\n",
    "p.x_range = Range1d(1500,1600)\n",
    "p.outline_line_width = 1; p.outline_line_color = \"black\"; p.min_border_top = 10\n",
    "p.xaxis.axis_label = \"Wavelength (nm)\"\n",
    "p.yaxis.axis_label = \"MZI Transmission\"\n",
    "p.xaxis.axis_label_text_font_size = \"12pt\"\n",
    "p.xaxis.major_label_text_font_size = \"12pt\"\n",
    "p.yaxis.axis_label_text_font_size = \"12pt\"\n",
    "p.yaxis.major_label_text_font_size = \"12pt\"\n",
    "\n",
    "wl=np.linspace(1400,1700,301)/1000 # wavelength in micron\n",
    "neff = 2.43\n",
    "L_up=100 # Length of upper MZM arm in micron\n",
    "delta_L=25 # Additional length in lower arm\n",
    "L_low=L_up+delta_L\n",
    "\n",
    "delta_n=np.linspace(0,6e-4,100)\n",
    "T=np.absolute(np.exp(1j*2*np.pi*neff*L_up/wl)+np.exp(1j*2*np.pi*neff*L_low/wl))**2/4*0.85\n",
    "l1=p.line(wl*1000,T,line_color='darkblue')\n",
    "\n",
    "xl=(1/(1/1.519+1/(4*2.43*25)))*1000\n",
    "xr=(1/(1/1.519-1/(4*2.43*25)))*1000\n",
    "FWHM = Arrow(start=VeeHead(size=10), end=VeeHead(size=10), line_color=\"red\", line_dash='dashed',\n",
    "                   x_start=xl, y_start=0.425, x_end=xr, y_end=0.425)\n",
    "p.add_layout(FWHM)\n",
    "label1=Label(x=1512, y=0.36, text='FWHM', text_color='red', background_fill_color='lightgray')\n",
    "p.add_layout(label1)\n",
    "xrFSR=(1/(1/1.519-1/(2.43*25)))*1000\n",
    "FSR = Arrow(start=VeeHead(size=10), end=VeeHead(size=10), line_color=\"red\", line_dash='dashed',\n",
    "                   x_start=1519, y_start=0.85, x_end=xrFSR, y_end=0.85)\n",
    "p.add_layout(FSR)\n",
    "label2=Label(x=(1519+xrFSR)/2-4, y=0.79, text='FSR', text_color='red', background_fill_color='lightgray')\n",
    "p.add_layout(label2)\n",
    "\n",
    "L_up_slider =  IntSlider(min=80,max=110,step=5,value=100,description='Upper Arm Length (micron)',\n",
    "                         style = {'description_width': '200px'}, layout={'width': '450px'})\n",
    "L_low_slider = IntSlider(min=115,max=150,step=5,value=125,description='Lower Arm Length (micron)',\n",
    "                         style = {'description_width': '200px'}, layout={'width': '450px'})\n",
    "\n",
    "def replot(L_up,L_low):\n",
    "    T=np.absolute(np.exp(1j*2*np.pi*neff*L_up/wl)+np.exp(1j*2*np.pi*neff*L_low/wl))**2/4*0.85\n",
    "    l1.data_source.data['y']=T\n",
    "    xl=(1/(1/1.519+1/(4*2.43*(L_low-L_up))))*1000\n",
    "    xr=(1/(1/1.519-1/(4*2.43*(L_low-L_up))))*1000\n",
    "    FWHM.x_start=xl\n",
    "    FWHM.x_end=xr\n",
    "    xrFSR=(1/(1/1.519-1/(2.43*(L_low-L_up))))*1000\n",
    "    FSR.x_end=xrFSR\n",
    "    label2.x=(1519+xrFSR)/2-4\n",
    "    push_notebook(handle=fig_handle)\n",
    "\n",
    "fig_handle = show(p,notebook_handle=True)\n",
    "interact(replot, L_up=L_up_slider, L_low=L_low_slider);"
   ]
  },
  {
   "cell_type": "code",
   "execution_count": null,
   "metadata": {},
   "outputs": [],
   "source": [
    "from IPython.core.display import Image\n",
    "Image(url='https://i.imgur.com/JRvOfbM.png',embed=True,width=800)"
   ]
  },
  {
   "cell_type": "markdown",
   "metadata": {},
   "source": [
    "#### Figure 4.  A Series of MZI's with a Narrower Passpand"
   ]
  },
  {
   "cell_type": "markdown",
   "metadata": {},
   "source": [
    "<p style=\"font-size:18px\">\n",
    "A filter with a narrow passband can be farbicated by assembling a number of un-balanced Mach-Zehnder Interferometers in suies, as illustrated in Figure 4. Each additional MZI narrows the passband, but also increases the insertion loss for the collection. Use the interactive chart below to explore how the number of MZI's affects the filter passband and insertion loss, and to answer the corresponding homework problem."
   ]
  },
  {
   "cell_type": "code",
   "execution_count": null,
   "metadata": {
    "hide_input": false
   },
   "outputs": [],
   "source": [
    "p = figure(height=400, width=450, background_fill_color=\"lightgray\")\n",
    "p.x_range = Range1d(1500,1600)\n",
    "p.y_range = Range1d(0,1)\n",
    "p.outline_line_width = 1; p.outline_line_color = \"black\"; p.min_border_top = 10\n",
    "p.xaxis.axis_label = \"Wavelength (nm)\"\n",
    "p.yaxis.axis_label = \"MZI Transmission\"\n",
    "p.xaxis.axis_label_text_font_size = \"12pt\"\n",
    "p.xaxis.major_label_text_font_size = \"12pt\"\n",
    "p.yaxis.axis_label_text_font_size = \"12pt\"\n",
    "p.yaxis.major_label_text_font_size = \"12pt\"\n",
    "\n",
    "wl=np.linspace(1400,1700,301)/1000 # wavelength in micron\n",
    "neff = 2.43\n",
    "L_up=100 # Length of upper MZM arm in micron\n",
    "delta_L=25 # Additional length in lower arm\n",
    "L_low=L_up+delta_L\n",
    "\n",
    "delta_n=np.linspace(0,6e-4,100)\n",
    "T=np.absolute(np.exp(1j*2*np.pi*neff*L_up/wl)+np.exp(1j*2*np.pi*neff*L_low/wl))**2/4*0.85\n",
    "l2=p.line(wl*1000,T,line_color='darkblue')\n",
    "\n",
    "xl=(1/(1/1.519+1/(4*2.43*25)))*1000\n",
    "xr=(1/(1/1.519-1/(4*2.43*25)))*1000\n",
    "\n",
    "vline = Span(location=xl, dimension='height', line_color='red', line_width=1, line_dash='dashed')\n",
    "vline2 = Span(location=xr, dimension='height', line_color='red', line_width=1, line_dash='dashed')\n",
    "p.add_layout(vline)\n",
    "p.add_layout(vline2)\n",
    "\n",
    "FWHM2 = Arrow(start=VeeHead(size=10), end=VeeHead(size=10), line_color=\"red\", line_dash='dashed',\n",
    "                   x_start=xl, y_start=0.88, x_end=xr, y_end=0.88)\n",
    "p.add_layout(FWHM2)\n",
    "label12=Label(x=1512, y=0.92, text='FWHM', text_color='red', background_fill_color='lightgray')\n",
    "p.add_layout(label12)\n",
    "\n",
    "L_up_slider2 =  IntSlider(min=80,max=110,step=5,value=100,description='Upper Arm Length (micron)',\n",
    "                         style = {'description_width': '200px'}, layout={'width': '450px'})\n",
    "L_low_slider2 = IntSlider(min=115,max=150,step=5,value=125,description='Lower Arm Length (micron)',\n",
    "                         style = {'description_width': '200px'}, layout={'width': '450px'})\n",
    "filter_segments_slider =IntSlider(min=1,max=6, step=1, value=1, description=\"Number of Filter Segments\",\n",
    "                         style = {'description_width': '200px'}, layout={'width': '450px'})\n",
    "loss_toggle=ToggleButtons(options=['On', 'Off'], description='Loss:',\n",
    "                         tooltips=['Turn Loss On', 'Turn Loss Off'])\n",
    "\n",
    "def replot2(L_up,L_low,N,loss_select):\n",
    "#    loss=(1-loss_button_group.active)*0.08\n",
    "    if loss_select=='On':\n",
    "        loss=0.08\n",
    "    else:\n",
    "        loss=0.0\n",
    "    l2.data_source.data['y']=np.absolute(np.exp(1j*2*np.pi*neff*L_up/wl)*(1-loss)\n",
    "                        +np.exp(1j*2*np.pi*neff*L_low/wl)*(1-loss))**(2*N)/4**N\n",
    "    xl=((1/(1/1.519+1/(4*2.43*(L_low-L_up))))*1000-1519)*(4/np.pi)*np.arccos(0.5**(0.5/N))+1519\n",
    "    xr=((1/(1/1.519-1/(4*2.43*(L_low-L_up))))*1000-1519)*(4/np.pi)*np.arccos(0.5**(0.5/N))+1519\n",
    "    FWHM2.x_start=xl\n",
    "    FWHM2.x_end=xr\n",
    "    vline.location=xl\n",
    "    vline2.location=xr\n",
    "    push_notebook(handle=fig_handle2)\n",
    "\n",
    "fig_handle2 = show(p,notebook_handle=True)\n",
    "interact(replot2, L_up=L_up_slider2, L_low=L_low_slider2, N=filter_segments_slider, loss_select=loss_toggle);"
   ]
  }
 ],
 "metadata": {
  "hide_input": false,
  "kernelspec": {
   "display_name": "Python 3",
   "language": "python",
   "name": "python3"
  },
  "language_info": {
   "codemirror_mode": {
    "name": "ipython",
    "version": 3
   },
   "file_extension": ".py",
   "mimetype": "text/x-python",
   "name": "python",
   "nbconvert_exporter": "python",
   "pygments_lexer": "ipython3",
   "version": "3.6.10"
  },
  "varInspector": {
   "cols": {
    "lenName": 16,
    "lenType": 16,
    "lenVar": 40
   },
   "kernels_config": {
    "python": {
     "delete_cmd_postfix": "",
     "delete_cmd_prefix": "del ",
     "library": "var_list.py",
     "varRefreshCmd": "print(var_dic_list())"
    },
    "r": {
     "delete_cmd_postfix": ") ",
     "delete_cmd_prefix": "rm(",
     "library": "var_list.r",
     "varRefreshCmd": "cat(var_dic_list()) "
    }
   },
   "types_to_exclude": [
    "module",
    "function",
    "builtin_function_or_method",
    "instance",
    "_Feature"
   ],
   "window_display": false
  }
 },
 "nbformat": 4,
 "nbformat_minor": 4
}
