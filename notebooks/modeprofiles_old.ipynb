{
 "cells": [
  {
   "cell_type": "markdown",
   "metadata": {},
   "source": [
    "<body style=\"width:50%;\">\n",
    "<p style=\"font-size:18px\">\n",
    "When light enters a material with a refractinve index n, the wavelength shortens and become lambda/n. When a light enters an optical waveguide, its wavelength is shortended by a factor called the effective index. The effective index has a value that is intermediate between the values for the refractive index of the core and cladding materials.\n",
    "<p style=\"font-size:18px\">\n",
    "The simulation below shows the optical intensity profile for light in a slab waveguide with a core index of 3.5 and cladding index of 3.2. It is tempting to guess that the effective index is the average refractive index experienced by the light.\n",
    "Use the slider to vary the waveguide width.\n",
    "<p style=\"font-size:18px\">\n",
    "Does the effective index change as you would expect if it were an average index?\n",
    "Is it quantitatively equal to the weighted index?\n",
    "If the effective index is not the weighted average, can you think of a reason why not?"
   ]
  },
  {
   "cell_type": "code",
   "execution_count": 1,
   "metadata": {},
   "outputs": [
    {
     "data": {
      "application/vnd.jupyter.widget-view+json": {
       "model_id": "c0e633ce50b6424bb9096ef891e6701b",
       "version_major": 2,
       "version_minor": 0
      },
      "text/plain": [
       "interactive(children=(FloatSlider(value=1.0, description='Guide Width', max=1.0, min=0.4), Output()), _dom_cla…"
      ]
     },
     "metadata": {},
     "output_type": "display_data"
    }
   ],
   "source": [
    "# nbi:hide_in\n",
    "%matplotlib inline\n",
    "import warnings\n",
    "warnings.filterwarnings('ignore')\n",
    "import numpy as np\n",
    "import matplotlib.pyplot as plt\n",
    "from ipywidgets import interact, FloatSlider, ToggleButtons, interactive, HBox, VBox, Label\n",
    "import time\n",
    "plt.rcParams.update({'font.size': 16})\n",
    "\n",
    "#core half thinkness in microns\n",
    "gw_slider = FloatSlider(description='Guide Width', min=0.4, max=1.0, step=0.1, value=1.0);\n",
    "\n",
    "#vacuum wavelength in microns\n",
    "wavelength=1.55\n",
    "#refractive index of core\n",
    "n1=3.5\n",
    "#refractive inex of cladding\n",
    "n0=3.2\n",
    "\n",
    "@interact(d=gw_slider)\n",
    "def plot(d):\n",
    "    global a\n",
    "    a=d/2\n",
    "    global Ka0\n",
    "    global Ga0\n",
    "    global x0\n",
    "    global x1\n",
    "    global x2\n",
    "    #Finding the 1st Even Mode\n",
    "    V=(2*np.pi*a/wavelength)*(n1**2.0-n0**2.0)**0.5\n",
    "    Ka_arr = np.arange(80,100)/100.0\n",
    "    Diff_arr = (n0**2/n1**2)*Ka_arr*np.tan(Ka_arr)-(V**2-Ka_arr**2)**0.5\n",
    "    Diff_arr=np.absolute(Diff_arr)\n",
    "    Ka0 = np.argmin(Diff_arr)/100.0+1.0\n",
    "    Ga0 = (n0**2/n1**2)*Ka_arr[np.argmin(Diff_arr)]*np.tan(Ka_arr[np.argmin(Diff_arr)])\n",
    "    Beta0 = ((n1*(2*np.pi/wavelength))**2-(Ka0/a)**2)**0.5  \n",
    "    x0=np.linspace(-2,-a,151) \n",
    "    x1=np.linspace(-a,a,151) \n",
    "    x2=np.linspace(a,2,151)\n",
    "    plt.plot(x0, (np.cos(Ka0)*np.exp((a+x0)*(Ga0/a)))**2,color='blue') \n",
    "    plt.plot(x1, np.cos(Ka0*x1/a)**2,color='blue') \n",
    "    plt.plot(x2, (np.cos(Ka0)*np.exp((a-x2)*(Ga0/a)))**2,color='blue')\n",
    "    plt.xlabel('Position (micron)')\n",
    "    plt.ylabel('Intensity')\n",
    "    plt.vlines([-a,a],0, 1.0, colors='red')\n",
    "\n",
    "    plt.text(-2.0,0.8,'ncore = '+ str(np.round(n0,1)))\n",
    "    plt.text(-2.0,0.7,'nclad = '+ str(np.round(n1,1)))\n",
    "    effn0 = Beta0*wavelength/2/np.pi\n",
    "    plt.text(2.5,0.8,'Effective Index = '+ str(round(effn0,2)))\n",
    "    conf = (np.sum((np.cos(Ka0*x1/a)**2))*(2*a)/(np.sum(np.cos(Ka0*x1/a)**2)*(2*a)\n",
    "                + 2* np.sum((np.cos(Ka0)*np.exp((a-x2)*(Ga0/a)))**2)*(2-a)))\n",
    "    plt.text(2.5,0.7,'Fraction of Light Confined to Core = '+ str(np.round(conf,2)))\n",
    "    nave = n1*conf + n0*(1-conf)\n",
    "    plt.text(2.5,0.6,'Weigthed Average of Index = '+ str(np.round(nave,2)))"
   ]
  }
 ],
 "metadata": {
  "hide_input": false,
  "kernelspec": {
   "display_name": "Python 3",
   "language": "python",
   "name": "python3"
  },
  "language_info": {
   "codemirror_mode": {
    "name": "ipython",
    "version": 3
   },
   "file_extension": ".py",
   "mimetype": "text/x-python",
   "name": "python",
   "nbconvert_exporter": "python",
   "pygments_lexer": "ipython3",
   "version": "3.6.10"
  },
  "varInspector": {
   "cols": {
    "lenName": 16,
    "lenType": 16,
    "lenVar": 40
   },
   "kernels_config": {
    "python": {
     "delete_cmd_postfix": "",
     "delete_cmd_prefix": "del ",
     "library": "var_list.py",
     "varRefreshCmd": "print(var_dic_list())"
    },
    "r": {
     "delete_cmd_postfix": ") ",
     "delete_cmd_prefix": "rm(",
     "library": "var_list.r",
     "varRefreshCmd": "cat(var_dic_list()) "
    }
   },
   "types_to_exclude": [
    "module",
    "function",
    "builtin_function_or_method",
    "instance",
    "_Feature"
   ],
   "window_display": false
  }
 },
 "nbformat": 4,
 "nbformat_minor": 4
}
