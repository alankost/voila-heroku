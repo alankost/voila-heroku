{
 "cells": [
  {
   "cell_type": "markdown",
   "metadata": {
    "hide_input": true
   },
   "source": [
    "# The Effective Index - a Slab Waveguide"
   ]
  },
  {
   "cell_type": "markdown",
   "metadata": {},
   "source": [
    "<img src=\"https://i.imgur.com/fdmg0M8.png\" style=\"width: 600px; float: left\" />"
   ]
  },
  {
   "cell_type": "markdown",
   "metadata": {
    "hide_input": false
   },
   "source": [
    "<p style=\"font-size:18px\">\n",
    "When light enters a material with a refractinve index n, the wavelength<br/>\n",
    "shortens and becomes lambda/n. When a light enters an optical waveguide,<br/>\n",
    "its wavelength is shortended by a factor called the effective index.<br/>\n",
    "The effective index has a value that is intermediate between the values<br/>\n",
    "for the refractive index of the core and cladding materials.\n",
    "<p style=\"font-size:18px\">\n",
    "The simulation below shows the optical intensity profile for light in<br/>\n",
    "a slab waveguide with a core index of 3.5 and cladding index of 3.2.<br/>\n",
    "It is tempting to guess that the effective index, neff, is the average<br/>\n",
    "refractive index, nave, experienced by the light, which we could estimate with<br/>\n",
    "\n",
    "<p style=\"font-size:18px\">\n",
    "${n_{ave}} = conf \\times {n_{core}} + \\left( {1 - conf} \\right) \\times {n_{clad}},$\n",
    "\n",
    "<p style=\"font-size:18px\">\n",
    "where conf is the confinement factor, the fraction of light in the waveguide core.\n",
    "\n",
    "<p style=\"font-size:18px\">\n",
    "Use the slider to vary the waveguide width.<br/>\n",
    "Does the effective index change as you would expect if it were an average?<br/>\n",
    "Is it quantitatively equal to the average index?<br/>\n",
    "If the effective index is not the average, can you think of a reason why not?"
   ]
  },
  {
   "cell_type": "code",
   "execution_count": 40,
   "metadata": {
    "hide_input": false,
    "scrolled": false
   },
   "outputs": [
    {
     "data": {
      "application/vnd.jupyter.widget-view+json": {
       "model_id": "67c2d28fcd6b46d2b2abf1e7d070a3dc",
       "version_major": 2,
       "version_minor": 0
      },
      "text/plain": [
       "AppLayout(children=(FloatSlider(value=1.0, description='Guide Width', layout=Layout(grid_area='header'), max=1…"
      ]
     },
     "metadata": {},
     "output_type": "display_data"
    }
   ],
   "source": [
    "%matplotlib widget\n",
    "import matplotlib.pyplot as plt\n",
    "import numpy as np\n",
    "from ipywidgets import interact, ToggleButtons, interactive, HBox, VBox, Label\n",
    "from ipywidgets import AppLayout, FloatSlider\n",
    "plt.ioff()\n",
    "plt.rcParams.update({'font.size': 12})\n",
    "\n",
    "#core half thinkness in microns\n",
    "gw_slider = FloatSlider(description='Guide Width', min=0.4, max=1.0, step=0.1, value=1.0);\n",
    "\n",
    "#vacuum wavelength in microns\n",
    "wavelength=1.55\n",
    "#refractive index of core\n",
    "n1=3.5\n",
    "#refractive inex of cladding\n",
    "n0=3.2\n",
    "\n",
    "#Finding the 1st Even Mode\n",
    "def modecalc(d):\n",
    "    a=d/2\n",
    "    V=(2*np.pi*a/wavelength)*(n1**2.0-n0**2.0)**0.5\n",
    "    Ka_arr = np.arange(80,100)/100.0\n",
    "    Diff_arr = (n0**2/n1**2)*Ka_arr*np.tan(Ka_arr)-(V**2-Ka_arr**2)**0.5\n",
    "    Diff_arr=np.absolute(Diff_arr)\n",
    "    Ka0 = np.argmin(Diff_arr)/100.0+1.0\n",
    "    Ga0 = (n0**2/n1**2)*Ka_arr[np.argmin(Diff_arr)]*np.tan(Ka_arr[np.argmin(Diff_arr)])\n",
    "    Beta0 = ((n1*(2*np.pi/wavelength))**2-(Ka0/a)**2)**0.5\n",
    "    neff = Beta0*wavelength/2/np.pi\n",
    "    x0=np.linspace(-2,-a,151)\n",
    "    y0=(np.cos(Ka0)*np.exp((a+x0)*(Ga0/a)))**2\n",
    "    x1=np.linspace(-a,a,151)\n",
    "    y1=np.cos(Ka0*x1/a)**2\n",
    "    x2=np.linspace(a,2,151)\n",
    "    y2=(np.cos(Ka0)*np.exp((a-x2)*(Ga0/a)))**2\n",
    "    conf = (np.sum((np.cos(Ka0*x1/a)**2))*(2*a)/(np.sum(np.cos(Ka0*x1/a)**2)*(2*a)\n",
    "            + 2* np.sum((np.cos(Ka0)*np.exp((a-x2)*(Ga0/a)))**2)*(2-a)))\n",
    "    nave = n1*conf + n0*(1-conf)\n",
    "    return a,x0,y0,x1,y1,x2,y2,conf,neff,nave\n",
    "a,x0,y0,x1,y1,x2,y2,conf,neff,nave = modecalc(1.0)\n",
    "\n",
    "# make the plot\n",
    "fig2=plt.figure(figsize=(5,4))\n",
    "fig2.canvas.header_visible = False\n",
    "fig2.canvas.layout.width = '600px'\n",
    "fig2.canvas.layout.height = '500px'\n",
    "# fig2.canvas.header_visible = False\n",
    "lines0 = plt.plot(x0, y0, color='blue') \n",
    "lines1 = plt.plot(x1, y1, color='blue') \n",
    "lines2 = plt.plot(x2, y2, color='blue')\n",
    "plt.xlabel('Position (micron)')\n",
    "plt.ylabel('Intensity')\n",
    "vline1 = plt.plot([a,a],[0,1.0], color='red')\n",
    "vline2 = plt.plot([-a,-a],[0,1.0], color='red')\n",
    "\n",
    "plt.text(-2.0,0.8,'ncore = '+ str(np.round(n0,1)))\n",
    "plt.text(-2.0,0.7,'nclad = '+ str(np.round(n1,1)))\n",
    "neff_label=plt.text(0.6,0.8,'neff = '+ str(round(neff,2)))\n",
    "conf_label=plt.text(0.6,0.7,'Conf Fact = '+ str(np.round(conf,2)))\n",
    "nave_label=plt.text(0.6,0.6,'nave = '+ str(np.round(nave,2)))\n",
    "\n",
    "# update the plot\n",
    "def update(change):\n",
    "    a,x0,y0,x1,y1,x2,y2,conf,neff,nave = modecalc(change.new)\n",
    "    a=change.new/2\n",
    "    lines0[0].set_data(x0,y0)\n",
    "    lines1[0].set_data(x1,y1)\n",
    "    lines2[0].set_data(x2,y2)\n",
    "    vline1[0].set_data([a,a],[0,1.0])\n",
    "    vline2[0].set_data([-a,-a],[0,1.0])\n",
    "    neff_label.set_text('neff = '+ str(round(neff,2)))\n",
    "    conf_label.set_text('Conf Fact = '+ str(np.round(conf,2)))\n",
    "    nave_label.set_text('nave = '+ str(np.round(nave,2)))\n",
    "    fig2.canvas.draw()\n",
    "    fig2.canvas.flush_events()    \n",
    "\n",
    "gw_slider.observe(update, names='value')\n",
    "\n",
    "AppLayout(\n",
    "    header=gw_slider,\n",
    "    left_sidebar=None,\n",
    "    center=fig2.canvas,\n",
    "    right_sidebar=None,\n",
    "    pane_heights=[0, 6, 5],\n",
    "    pane_widths=[0,6,3])"
   ]
  }
 ],
 "metadata": {
  "hide_input": false,
  "kernelspec": {
   "display_name": "Python 3",
   "language": "python",
   "name": "python3"
  },
  "language_info": {
   "codemirror_mode": {
    "name": "ipython",
    "version": 3
   },
   "file_extension": ".py",
   "mimetype": "text/x-python",
   "name": "python",
   "nbconvert_exporter": "python",
   "pygments_lexer": "ipython3",
   "version": "3.6.10"
  },
  "varInspector": {
   "cols": {
    "lenName": 16,
    "lenType": 16,
    "lenVar": 40
   },
   "kernels_config": {
    "python": {
     "delete_cmd_postfix": "",
     "delete_cmd_prefix": "del ",
     "library": "var_list.py",
     "varRefreshCmd": "print(var_dic_list())"
    },
    "r": {
     "delete_cmd_postfix": ") ",
     "delete_cmd_prefix": "rm(",
     "library": "var_list.r",
     "varRefreshCmd": "cat(var_dic_list()) "
    }
   },
   "types_to_exclude": [
    "module",
    "function",
    "builtin_function_or_method",
    "instance",
    "_Feature"
   ],
   "window_display": false
  }
 },
 "nbformat": 4,
 "nbformat_minor": 4
}
