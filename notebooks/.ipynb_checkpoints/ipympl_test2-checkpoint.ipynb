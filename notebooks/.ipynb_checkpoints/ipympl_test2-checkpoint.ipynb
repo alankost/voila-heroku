{
 "cells": [
  {
   "cell_type": "code",
   "execution_count": 1,
   "metadata": {
    "hide_input": false
   },
   "outputs": [],
   "source": [
    "# Enabling the `widget` backend.\n",
    "# This requires jupyter-matplotlib a.k.a. ipympl.\n",
    "# ipympl can be install via pip or conda.\n",
    "%matplotlib widget\n",
    "\n",
    "import matplotlib.pyplot as plt\n",
    "import numpy as np"
   ]
  },
  {
   "cell_type": "code",
   "execution_count": 2,
   "metadata": {
    "hide_input": false,
    "scrolled": false
   },
   "outputs": [
    {
     "data": {
      "application/vnd.jupyter.widget-view+json": {
       "model_id": "6a63770d7fe34505a0e0b9d0b0308c7c",
       "version_major": 2,
       "version_minor": 0
      },
      "text/plain": [
       "AppLayout(children=(FloatSlider(value=1.0, description='Guide Width', layout=Layout(grid_area='header'), max=1…"
      ]
     },
     "metadata": {},
     "output_type": "display_data"
    }
   ],
   "source": [
    "from ipywidgets import interact, ToggleButtons, interactive, HBox, VBox, Label\n",
    "from ipywidgets import AppLayout, FloatSlider\n",
    "\n",
    "plt.ioff()\n",
    "\n",
    "plt.rcParams.update({'font.size': 12})\n",
    "\n",
    "#core half thinkness in microns\n",
    "gw_slider = FloatSlider(description='Guide Width', min=0.4, max=1.0, step=0.1, value=1.0);\n",
    "\n",
    "#vacuum wavelength in microns\n",
    "wavelength=1.55\n",
    "#refractive index of core\n",
    "n1=3.5\n",
    "#refractive inex of cladding\n",
    "n0=3.2\n",
    "\n",
    "#Finding the 1st Even Mode\n",
    "\n",
    "def modecalc(d):\n",
    "    a=d/2\n",
    "    V=(2*np.pi*a/wavelength)*(n1**2.0-n0**2.0)**0.5\n",
    "    Ka_arr = np.arange(80,100)/100.0\n",
    "    Diff_arr = (n0**2/n1**2)*Ka_arr*np.tan(Ka_arr)-(V**2-Ka_arr**2)**0.5\n",
    "    Diff_arr=np.absolute(Diff_arr)\n",
    "    Ka0 = np.argmin(Diff_arr)/100.0+1.0\n",
    "    Ga0 = (n0**2/n1**2)*Ka_arr[np.argmin(Diff_arr)]*np.tan(Ka_arr[np.argmin(Diff_arr)])\n",
    "    Beta0 = ((n1*(2*np.pi/wavelength))**2-(Ka0/a)**2)**0.5\n",
    "    neff = Beta0*wavelength/2/np.pi\n",
    "    x0=np.linspace(-2,-a,151)\n",
    "    y0=(np.cos(Ka0)*np.exp((a+x0)*(Ga0/a)))**2\n",
    "    x1=np.linspace(-a,a,151)\n",
    "    y1=np.cos(Ka0*x1/a)**2\n",
    "    x2=np.linspace(a,2,151)\n",
    "    y2=(np.cos(Ka0)*np.exp((a-x2)*(Ga0/a)))**2\n",
    "    conf = (np.sum((np.cos(Ka0*x1/a)**2))*(2*a)/(np.sum(np.cos(Ka0*x1/a)**2)*(2*a)\n",
    "            + 2* np.sum((np.cos(Ka0)*np.exp((a-x2)*(Ga0/a)))**2)*(2-a)))\n",
    "    return a,x0,y0,x1,y1,x2,y2,conf,neff\n",
    "a,x0,y0,x1,y1,x2,y2,conf,neff = modecalc(1.0)\n",
    "\n",
    "fig2=plt.figure(figsize=(5,4))\n",
    "fig2.canvas.layout.width = '600px'\n",
    "fig2.canvas.layout.height = '500px'\n",
    "# fig2.canvas.header_visible = False\n",
    "lines0 = plt.plot(x0, y0, color='blue') \n",
    "lines1 = plt.plot(x1, y1, color='blue') \n",
    "lines2 = plt.plot(x2, y2, color='blue')\n",
    "plt.xlabel('Position (micron)')\n",
    "plt.ylabel('Intensity')\n",
    "vline1 = plt.plot([a,a],[0,1.0], color='red')\n",
    "vline2 = plt.plot([-a,-a],[0,1.0], color='red')\n",
    "\n",
    "plt.text(-2.0,0.8,'ncore = '+ str(np.round(n0,1)))\n",
    "plt.text(-2.0,0.7,'nclad = '+ str(np.round(n1,1)))\n",
    "plt.text(0.6,0.8,'neff = '+ str(round(neff,2)))\n",
    "plt.text(0.6,0.7,'Conf Fact = '+ str(np.round(conf,2)))\n",
    "nave = n1*conf + n0*(1-conf)\n",
    "plt.text(0.6,0.6,'nave = '+ str(np.round(nave,2)))\n",
    "\n",
    "def update(change):\n",
    "    a,x0,y0,x1,y1,x2,y2,conf,neff = modecalc(change.new)\n",
    "    a=change.new/2\n",
    "    lines0[0].set_data(x0,y0)\n",
    "    lines1[0].set_data(x1,y1)\n",
    "    lines2[0].set_data(x2,y2)\n",
    "    vline1[0].set_data([a,a],[0,1.0])\n",
    "    vline2[0].set_data([-a,-a],[0,1.0])   \n",
    "    fig2.canvas.draw()\n",
    "    fig2.canvas.flush_events()    \n",
    "\n",
    "gw_slider.observe(update, names='value')\n",
    "\n",
    "AppLayout(\n",
    "    header=gw_slider,\n",
    "    left_sidebar=None,\n",
    "    center=fig2.canvas,\n",
    "    right_sidebar=None,\n",
    "    pane_heights=[0, 6, 5],\n",
    "    pane_widths=[0,6,3])"
   ]
  },
  {
   "cell_type": "code",
   "execution_count": null,
   "metadata": {},
   "outputs": [],
   "source": []
  }
 ],
 "metadata": {
  "hide_input": false,
  "kernelspec": {
   "display_name": "Python 3",
   "language": "python",
   "name": "python3"
  },
  "language_info": {
   "codemirror_mode": {
    "name": "ipython",
    "version": 3
   },
   "file_extension": ".py",
   "mimetype": "text/x-python",
   "name": "python",
   "nbconvert_exporter": "python",
   "pygments_lexer": "ipython3",
   "version": "3.6.10"
  },
  "varInspector": {
   "cols": {
    "lenName": 16,
    "lenType": 16,
    "lenVar": 40
   },
   "kernels_config": {
    "python": {
     "delete_cmd_postfix": "",
     "delete_cmd_prefix": "del ",
     "library": "var_list.py",
     "varRefreshCmd": "print(var_dic_list())"
    },
    "r": {
     "delete_cmd_postfix": ") ",
     "delete_cmd_prefix": "rm(",
     "library": "var_list.r",
     "varRefreshCmd": "cat(var_dic_list()) "
    }
   },
   "types_to_exclude": [
    "module",
    "function",
    "builtin_function_or_method",
    "instance",
    "_Feature"
   ],
   "window_display": false
  }
 },
 "nbformat": 4,
 "nbformat_minor": 4
}
