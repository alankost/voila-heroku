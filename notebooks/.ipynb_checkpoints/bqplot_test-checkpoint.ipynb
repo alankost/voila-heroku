{
 "cells": [
  {
   "cell_type": "code",
   "execution_count": 1,
   "metadata": {
    "hide_input": false
   },
   "outputs": [],
   "source": [
    "import numpy as np\n",
    "\n",
    "from ipywidgets import FloatSlider, HBox, VBox\n",
    "import bqplot.pyplot as plt"
   ]
  },
  {
   "cell_type": "code",
   "execution_count": 17,
   "metadata": {
    "hide_input": false,
    "scrolled": false
   },
   "outputs": [
    {
     "data": {
      "application/vnd.jupyter.widget-view+json": {
       "model_id": "1809ae8895154db39c3aa126bcabc1ef",
       "version_major": 2,
       "version_minor": 0
      },
      "text/plain": [
       "VBox(children=(FloatSlider(value=1.0, description='Guide Width', max=1.0, min=0.4), Figure(axes=[Axis(scale=Li…"
      ]
     },
     "metadata": {},
     "output_type": "display_data"
    }
   ],
   "source": [
    "#core half thinkness in microns\n",
    "gw_slider = FloatSlider(description='Guide Width', min=0.4, max=1.0, step=0.1, value=1.0);\n",
    "\n",
    "#vacuum wavelength in microns\n",
    "wavelength=1.55\n",
    "#refractive index of core\n",
    "n1=3.5\n",
    "#refractive inex of cladding\n",
    "n0=3.2\n",
    "\n",
    "#Finding the 1st Even Mode\n",
    "\n",
    "def modecalc(d):\n",
    "    a=d/2\n",
    "    V=(2*np.pi*a/wavelength)*(n1**2.0-n0**2.0)**0.5\n",
    "    Ka_arr = np.arange(80,100)/100.0\n",
    "    Diff_arr = (n0**2/n1**2)*Ka_arr*np.tan(Ka_arr)-(V**2-Ka_arr**2)**0.5\n",
    "    Diff_arr=np.absolute(Diff_arr)\n",
    "    Ka0 = np.argmin(Diff_arr)/100.0+1.0\n",
    "    Ga0 = (n0**2/n1**2)*Ka_arr[np.argmin(Diff_arr)]*np.tan(Ka_arr[np.argmin(Diff_arr)])\n",
    "    Beta0 = ((n1*(2*np.pi/wavelength))**2-(Ka0/a)**2)**0.5\n",
    "    neff = Beta0*wavelength/2/np.pi\n",
    "    x0=np.linspace(-2,-a,151)\n",
    "    y0=(np.cos(Ka0)*np.exp((a+x0)*(Ga0/a)))**2\n",
    "    x1=np.linspace(-a,a,151)\n",
    "    y1=np.cos(Ka0*x1/a)**2\n",
    "    x2=np.linspace(a,2,151)\n",
    "    y2=(np.cos(Ka0)*np.exp((a-x2)*(Ga0/a)))**2\n",
    "    conf = (np.sum((np.cos(Ka0*x1/a)**2))*(2*a)/(np.sum(np.cos(Ka0*x1/a)**2)*(2*a)\n",
    "            + 2* np.sum((np.cos(Ka0)*np.exp((a-x2)*(Ga0/a)))**2)*(2-a)))\n",
    "    return a,x0,y0,x1,y1,x2,y2,conf,neff\n",
    "\n",
    "a,x0,y0,x1,y1,x2,y2,conf,neff = modecalc(1.0)\n",
    "\n",
    "fig = plt.figure()\n",
    "fig.layout.width = '500px'\n",
    "line0 = plt.plot(x0, y0, 'b', stroke_width=3)\n",
    "line1 = plt.plot(x1, y1, 'b', stroke_width=3)\n",
    "line2 = plt.plot(x2, y2, 'b', stroke_width=3)\n",
    "\n",
    "\n",
    "def update(change):\n",
    "    a,x0,y0,x1,y1,x2,y2,conf,neff = modecalc(change.new)\n",
    "    line0.x = x0\n",
    "    line0.y = y0\n",
    "    line1.x = x1\n",
    "    line1.y = y1\n",
    "    line2.x = x2\n",
    "    line2.y = y2\n",
    "\n",
    "gw_slider.observe(update, 'value')\n",
    "\n",
    "final_layout = VBox([gw_slider, fig])\n",
    "final_layout"
   ]
  },
  {
   "cell_type": "code",
   "execution_count": null,
   "metadata": {},
   "outputs": [],
   "source": []
  }
 ],
 "metadata": {
  "hide_input": false,
  "kernelspec": {
   "display_name": "Python 3",
   "language": "python",
   "name": "python3"
  },
  "language_info": {
   "codemirror_mode": {
    "name": "ipython",
    "version": 3
   },
   "file_extension": ".py",
   "mimetype": "text/x-python",
   "name": "python",
   "nbconvert_exporter": "python",
   "pygments_lexer": "ipython3",
   "version": "3.6.10"
  },
  "varInspector": {
   "cols": {
    "lenName": 16,
    "lenType": 16,
    "lenVar": 40
   },
   "kernels_config": {
    "python": {
     "delete_cmd_postfix": "",
     "delete_cmd_prefix": "del ",
     "library": "var_list.py",
     "varRefreshCmd": "print(var_dic_list())"
    },
    "r": {
     "delete_cmd_postfix": ") ",
     "delete_cmd_prefix": "rm(",
     "library": "var_list.r",
     "varRefreshCmd": "cat(var_dic_list()) "
    }
   },
   "types_to_exclude": [
    "module",
    "function",
    "builtin_function_or_method",
    "instance",
    "_Feature"
   ],
   "window_display": false
  }
 },
 "nbformat": 4,
 "nbformat_minor": 4
}
