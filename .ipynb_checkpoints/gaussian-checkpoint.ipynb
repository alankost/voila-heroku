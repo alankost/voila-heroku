{
 "cells": [
  {
   "cell_type": "code",
   "execution_count": 1,
   "id": "2a89aa01",
   "metadata": {},
   "outputs": [],
   "source": [
    "import numpy as np\n",
    "from scipy.stats import norm\n",
    "from ipywidgets import FloatSlider, HBox, VBox\n",
    "import bqplot.pyplot as plt"
   ]
  },
  {
   "cell_type": "code",
   "execution_count": null,
   "id": "2198ca41",
   "metadata": {},
   "outputs": [],
   "source": [
    "from IPython.core.display import Image \n",
    "Image(url='https://i.imgur.com/YQZSIDO.png',embed=True,height=400, width=800)"
   ]
  },
  {
   "cell_type": "markdown",
   "id": "3e0445fb",
   "metadata": {},
   "source": [
    "This is an example of an application launched from EDX Studio via a web link.\n",
    "It is a live application, and the gaussian profile pictured below can be modified by adjusting the slider."
   ]
  },
  {
   "cell_type": "code",
   "execution_count": 2,
   "id": "d017d557",
   "metadata": {},
   "outputs": [],
   "source": [
    "x = np.linspace(-10, 10, 200)\n",
    "y = norm.pdf(x)\n",
    "\n",
    "# plot the gaussian density\n",
    "title_tmpl = 'Gaussian Density (mu = {} and sigma = {})'\n",
    "pdf_fig = plt.figure(title=title_tmpl.format(0, 1))\n",
    "pdf_line = plt.plot(x, y, 'm', stroke_width=3)"
   ]
  },
  {
   "cell_type": "code",
   "execution_count": 3,
   "id": "7c5e8a84",
   "metadata": {},
   "outputs": [],
   "source": [
    "# use two sliders to represent mu and sigma\n",
    "mu_slider = FloatSlider(description='mu', value=0, min=-5, max=5, step=.1)\n",
    "sigma_slider = FloatSlider(description='sigma', value=1, min=0.1, max=5, step=.1)\n",
    "\n",
    "slider_layout = HBox([mu_slider, sigma_slider])"
   ]
  },
  {
   "cell_type": "code",
   "execution_count": 4,
   "id": "0a904cb5",
   "metadata": {},
   "outputs": [],
   "source": [
    "def update_density(change):\n",
    "    new_mu = mu_slider.value\n",
    "    new_sigma = sigma_slider.value\n",
    "    # update the y attribute of the plot with the new pdf\n",
    "    # computed using new mu and sigma values\n",
    "    pdf_line.y = norm.pdf(x, new_mu, new_sigma)\n",
    "    \n",
    "    # also update the fig title\n",
    "    pdf_fig.title = title_tmpl.format(new_mu, new_sigma)\n",
    "\n",
    "# register the above callback with the 'value' trait of the sliders\n",
    "mu_slider.observe(update_density, 'value')\n",
    "sigma_slider.observe(update_density, 'value')"
   ]
  },
  {
   "cell_type": "code",
   "execution_count": 5,
   "id": "96a0dd31",
   "metadata": {},
   "outputs": [
    {
     "data": {
      "application/vnd.jupyter.widget-view+json": {
       "model_id": "ae31662d82c7486d9e8ea07d6b9f8966",
       "version_major": 2,
       "version_minor": 0
      },
      "text/plain": [
       "VBox(children=(Figure(axes=[Axis(scale=LinearScale(), side='bottom'), Axis(orientation='vertical', scale=Linea…"
      ]
     },
     "metadata": {},
     "output_type": "display_data"
    }
   ],
   "source": [
    "# now put all the widgets together into a simple dashboard\n",
    "# the plot should update now when the slider values are updated!\n",
    "final_layout = VBox([pdf_fig, slider_layout])\n",
    "final_layout"
   ]
  },
  {
   "cell_type": "code",
   "execution_count": null,
   "id": "e10ffc43",
   "metadata": {},
   "outputs": [],
   "source": []
  }
 ],
 "metadata": {
  "kernelspec": {
   "display_name": "Python 3",
   "language": "python",
   "name": "python3"
  },
  "language_info": {
   "codemirror_mode": {
    "name": "ipython",
    "version": 3
   },
   "file_extension": ".py",
   "mimetype": "text/x-python",
   "name": "python",
   "nbconvert_exporter": "python",
   "pygments_lexer": "ipython3",
   "version": "3.8.8"
  }
 },
 "nbformat": 4,
 "nbformat_minor": 5
}
